{
 "cells": [
  {
   "cell_type": "markdown",
   "metadata": {},
   "source": [
    "# Aim of this notebook:\n",
    "1.  Read the CSV file that was created in the first notebook to Pandas DataFrame\n",
    "\n",
    "2. Create new columns to the dataframe and fill them with right values using regular expression\n",
    "\n",
    "3. Identify missing values, clean and drop off data and colums that are no longer needed\n",
    "\n",
    "4. Save the dataframe as a new CSV file"
   ]
  },
  {
   "cell_type": "code",
   "execution_count": 1,
   "metadata": {},
   "outputs": [],
   "source": [
    "import pandas as pd\n",
    "import numpy as np\n",
    "import re\n",
    "import requests\n",
    "from bs4 import BeautifulSoup"
   ]
  },
  {
   "cell_type": "code",
   "execution_count": 2,
   "metadata": {},
   "outputs": [],
   "source": [
    "df_raw = pd.read_csv(\"256_url.csv\")"
   ]
  },
  {
   "cell_type": "markdown",
   "metadata": {},
   "source": [
    "Split the column \"Project Description\" to 2 new columns and replace the unnecessary characters with empty character"
   ]
  },
  {
   "cell_type": "code",
   "execution_count": 3,
   "metadata": {},
   "outputs": [],
   "source": [
    "# NO ERROR HANDLING ON THESE\n",
    "\n",
    "# Split the \"Project Description\" column into two separate columns\n",
    "df_raw[['ProjectDescription', 'ProjectLead']] = df_raw['Project Description'].str.split('Poroject Lead:', expand=True)\n",
    "\n",
    "# Extract \"ProjectDescription\" to a new list\n",
    "project_description_list = df_raw['ProjectDescription'].tolist()\n",
    "\n",
    "# Extract \"ProjectLead\" to a new list\n",
    "project_lead_list = df_raw['ProjectLead'].tolist()\n",
    "\n",
    "# Replace the \"\\n\" with \" \" in \"ProjectLead\"\n",
    "\n",
    "df_raw[\"ProjectLead\"] = df_raw[\"ProjectLead\"].str.replace(\"\\n\",\"\")"
   ]
  },
  {
   "cell_type": "markdown",
   "metadata": {},
   "source": [
    "Keep the column \"Country\" and add 1 new column using regular expression"
   ]
  },
  {
   "cell_type": "code",
   "execution_count": 4,
   "metadata": {},
   "outputs": [],
   "source": [
    "# NO ERROR HANDLING ON THESE (also, I did not include city names)\n",
    "\n",
    "# Extract \"Country\" column\n",
    "df_raw[\"Country\"] = df_raw[\"Region\"].str.extract(\"Country:\\n(.*?)\\n\")\n",
    "\n",
    "# Set \"Region\" column automatically\n",
    "df_raw[\"Region\"] = df_raw[\"Region\"].str.extract(\"Region:\\n(.*?)\\n\")\n",
    "\n",
    "# Remove the \"\\n\" characters from the new columns\n",
    "df_raw[\"Country\"] = df_raw[\"Country\"].str.strip()\n",
    "df_raw[\"Region\"] = df_raw[\"Region\"].str.strip()"
   ]
  },
  {
   "cell_type": "markdown",
   "metadata": {},
   "source": [
    "Take a copy of the dataframe and continue with the copy"
   ]
  },
  {
   "cell_type": "code",
   "execution_count": 5,
   "metadata": {},
   "outputs": [],
   "source": [
    "testi_3 = df_raw.copy()"
   ]
  },
  {
   "cell_type": "markdown",
   "metadata": {},
   "source": [
    "Create a function to extract values using regular expressions. Create 5 new columns that gets their values from the column \"Project Boundaries\""
   ]
  },
  {
   "cell_type": "code",
   "execution_count": 6,
   "metadata": {},
   "outputs": [],
   "source": [
    "# Define a function to extract values using regular expressions\n",
    "def extract_value(pattern, text):\n",
    "    try:\n",
    "        result = re.search(pattern, text).group(1)\n",
    "        return result\n",
    "    except AttributeError:\n",
    "        return np.nan\n",
    "\n",
    "# Create empty columns in the DataFrame\n",
    "testi_3['StartTime'] = np.nan\n",
    "testi_3['EndTime'] = np.nan\n",
    "testi_3['Status'] = np.nan\n",
    "testi_3['Budget'] = np.nan\n",
    "testi_3['FundingSource'] = np.nan\n",
    "\n",
    "# Iterate over rows and apply the extraction and conversion functions\n",
    "for index, row in testi_3.iterrows():\n",
    "    testi_3.at[index, 'StartTime'] = extract_value(r'Start - End:\\n(.*?) -', row['Project Boundaries'])\n",
    "    testi_3.at[index, 'EndTime'] = extract_value(r'Start - End:\\n.*? - (.*?)\\n', row['Project Boundaries'])\n",
    "    testi_3.at[index, 'Status'] = extract_value(r'Project Status:\\n(.*?)\\n', row['Project Boundaries'])\n",
    "    \n",
    "    budget_str = extract_value(r'Project Budget:\\n(.*?) €', row['Project Boundaries'])\n",
    "    if pd.notna(budget_str) and budget_str.replace(\".\", \"\", 1).isdigit():\n",
    "        testi_3.at[index, 'Budget'] = float(budget_str.replace(',', ''))\n",
    "    \n",
    "    funding_source = extract_value(r'Funding source:\\n(.*)', row['Project Boundaries'])\n",
    "    if pd.notna(funding_source):\n",
    "        if isinstance(funding_source, str):\n",
    "            testi_3.at[index, 'FundingSource'] = funding_source.strip()\n",
    "        else:\n",
    "            testi_3.at[index, 'FundingSource'] = str(funding_source)"
   ]
  },
  {
   "cell_type": "markdown",
   "metadata": {},
   "source": [
    "Create a function to clean and convert datetime values. Create 1 new column that gets its values from Start and End times that are not null"
   ]
  },
  {
   "cell_type": "code",
   "execution_count": 7,
   "metadata": {},
   "outputs": [],
   "source": [
    "def clean_and_convert_date(date_str):\n",
    "    try:\n",
    "        date = pd.to_datetime(date_str, format='%Y-%m-%d', errors='coerce')\n",
    "        return date\n",
    "    except ValueError:\n",
    "        return pd.NaT  # Use pd.NaT to represent a missing date\n",
    "\n",
    "# Apply the cleaning and conversion function to \"StartDate\" and \"EndDate\"\n",
    "testi_3['StartTime'] = testi_3['StartTime'].apply(clean_and_convert_date)\n",
    "testi_3['EndTime'] = testi_3['EndTime'].apply(clean_and_convert_date)\n",
    "\n",
    "# Calculate the \"ProjectLength\" column\n",
    "testi_3['ProjectLength'] = (testi_3['EndTime'] - testi_3['StartTime']).dt.days"
   ]
  },
  {
   "cell_type": "markdown",
   "metadata": {},
   "source": [
    "Take a copy of the dataframe and continue with the copy"
   ]
  },
  {
   "cell_type": "code",
   "execution_count": 8,
   "metadata": {},
   "outputs": [],
   "source": [
    "testi_4 = testi_3.copy()"
   ]
  },
  {
   "cell_type": "markdown",
   "metadata": {},
   "source": [
    "Create 1 new column from the \"Website\" column. There is no error handling on this and the \"trash_list\" contains values, that will be not included to the final dataframe"
   ]
  },
  {
   "cell_type": "code",
   "execution_count": 9,
   "metadata": {},
   "outputs": [],
   "source": [
    "# Split the \"Website\" column into two separate columns\n",
    "testi_4[['Trash','Website']] = testi_4['Website'].str.split('Website:\\n', expand=True)\n",
    "\n",
    "trash_list = testi_4['Website'].tolist()\n",
    "website_list = testi_4['Website'].tolist()"
   ]
  },
  {
   "cell_type": "markdown",
   "metadata": {},
   "source": [
    "Take a copy of the dataframe and continue with the copy"
   ]
  },
  {
   "cell_type": "code",
   "execution_count": 10,
   "metadata": {},
   "outputs": [],
   "source": [
    "testi_9 = testi_4.copy() "
   ]
  },
  {
   "cell_type": "markdown",
   "metadata": {},
   "source": [
    "Create 7 new columns that gets their values from column \"Technological Information\""
   ]
  },
  {
   "cell_type": "code",
   "execution_count": 11,
   "metadata": {},
   "outputs": [],
   "source": [
    "# Define your column names that are produced from \"Technological Information\" column\n",
    "column_names_from_tech_info_column = [\n",
    "    'Activities',\n",
    "    'CO2 Source',\n",
    "    'CCU Tecnology Category',\n",
    "    'Facility stage',\n",
    "    'Start TRL',\n",
    "    'End TRL',\n",
    "    'Info On Utilization'\n",
    "]\n",
    "\n",
    "# Initialize empty columns in the DataFrame\n",
    "for col in column_names_from_tech_info_column:\n",
    "    testi_9[col] = np.nan\n",
    "\n",
    "# Iterate over rows and split the text\n",
    "for index, row in testi_9.iterrows():\n",
    "    text = row['Technological Information']\n",
    "    \n",
    "    # Use a regex pattern to match the key and its associated values\n",
    "    pattern = f\"({'|'.join(column_names_from_tech_info_column)}):\\\\n(.*?)(?=(?:{'|'.join(column_names_from_tech_info_column)}):\\\\n|\\\\Z)\"\n",
    "    matches = re.findall(pattern, text, re.DOTALL)\n",
    "    \n",
    "    # Fill the corresponding column with the extracted values\n",
    "    for match in matches:\n",
    "        key, value = match\n",
    "        testi_9.at[index, key] = value\n",
    "\n",
    "# Replace empty strings with NaN\n",
    "testi_9.replace('', np.nan, inplace=True) "
   ]
  },
  {
   "cell_type": "markdown",
   "metadata": {},
   "source": [
    "Replace the unnecessary characters from the new columns created from the column \"Technological Information\""
   ]
  },
  {
   "cell_type": "code",
   "execution_count": 12,
   "metadata": {},
   "outputs": [],
   "source": [
    "testi_9[\"Activities\"] = testi_9[\"Activities\"].str.replace('-','').str.replace('\\n\\n\\n','').str.replace('\\n',',').str.strip()\n",
    "testi_9[\"CO2 Source\"] = testi_9[\"CO2 Source\"].str.replace('-','').str.replace('\\n\\n\\n','').str.replace('\\n',',').str.strip()\n",
    "testi_9[\"CCU Tecnology Category\"] = testi_9[\"CCU Tecnology Category\"].str.replace('-','').str.replace('\\n\\n\\n','').str.replace('\\n',',').str.strip()\n",
    "testi_9[\"Facility stage\"] = testi_9[\"Facility stage\"].str.replace('-','').str.replace('\\n\\n\\n','').str.replace('\\n',',').str.strip()\n",
    "testi_9[\"Start TRL\"] = testi_9[\"Start TRL\"].str.replace('-','').str.replace('\\n\\n\\n','').str.replace('\\n',',').str.strip()\n",
    "testi_9[\"End TRL\"] = testi_9[\"End TRL\"].str.replace('-','').str.replace('\\n\\n\\n','').str.replace('\\n',',').str.strip()\n",
    "testi_9[\"Info On Utilization\"] = testi_9[\"Info On Utilization\"].str.replace('-','').str.replace('\\n\\n\\n','').str.replace('\\n',',').str.strip()"
   ]
  },
  {
   "cell_type": "markdown",
   "metadata": {},
   "source": [
    "Take a copy of the dataframe and continue with the copy"
   ]
  },
  {
   "cell_type": "code",
   "execution_count": 13,
   "metadata": {},
   "outputs": [],
   "source": [
    "testi_10 = testi_9.copy()"
   ]
  },
  {
   "cell_type": "markdown",
   "metadata": {},
   "source": [
    "Create 2 new columns that gets their values from column \"Technological Details\""
   ]
  },
  {
   "cell_type": "code",
   "execution_count": 14,
   "metadata": {},
   "outputs": [],
   "source": [
    "# Define column names that are produced from \"Technological Details\" column\n",
    "\n",
    "column_names_tech_details = [\n",
    "    'CO2 capture/Utilization',\n",
    "    'Production Volume'\n",
    "]\n",
    "\n",
    "# Initialize empty columns in the DataFrame\n",
    "for col in column_names_tech_details:\n",
    "    testi_10[col] = np.nan\n",
    "\n",
    "# Iterate over rows and split the text\n",
    "for index, row in testi_10.iterrows():\n",
    "    text = row['Technological Details']\n",
    "    \n",
    "    # Use a regex pattern to match the key and its associated values\n",
    "    pattern = f\"({'|'.join(column_names_tech_details)}):\\\\n(.*?)(?=(?:{'|'.join(column_names_tech_details)}):\\\\n|\\\\Z)\"\n",
    "    matches = re.findall(pattern, text, re.DOTALL)\n",
    "    \n",
    "    # Fill the corresponding column with the extracted values\n",
    "    for match in matches:\n",
    "        key, value = match\n",
    "        testi_10.at[index, key] = value\n",
    "\n",
    "# Replace empty strings with NaN\n",
    "testi_10.replace('', np.nan, inplace=True) "
   ]
  },
  {
   "cell_type": "markdown",
   "metadata": {},
   "source": [
    "Replace the unnecessary characters from the new columns created from the column \"Technological Details\""
   ]
  },
  {
   "cell_type": "code",
   "execution_count": 15,
   "metadata": {},
   "outputs": [],
   "source": [
    "testi_10[\"CO2 capture/Utilization\"] = testi_10[\"CO2 capture/Utilization\"].str.replace('\\n\\n','').str.replace('Production Volume:','').str.replace('\\n\\n\\n','').str.strip()\n",
    "testi_10[\"CO2 capture/Utilization\"] = np.where(testi_10[\"CO2 capture/Utilization\"] == \"\", np.nan, testi_10[\"CO2 capture/Utilization\"])"
   ]
  },
  {
   "cell_type": "markdown",
   "metadata": {},
   "source": [
    "Take a copy of the dataframe and continue with the copy"
   ]
  },
  {
   "cell_type": "code",
   "execution_count": 16,
   "metadata": {},
   "outputs": [],
   "source": [
    "testi_11 = testi_10.copy()"
   ]
  },
  {
   "cell_type": "markdown",
   "metadata": {},
   "source": [
    "Create 2 new columns that get their values from column \"Product Information\". This column was most challenging to chop into new columns and needed some extra mofication"
   ]
  },
  {
   "cell_type": "code",
   "execution_count": 17,
   "metadata": {},
   "outputs": [],
   "source": [
    "# Define column names that are produced from \"Product Information\" column\n",
    "column_names_product_information = [\n",
    "    'Product Categories',\n",
    "    'Specific Product(s)'\n",
    "]\n",
    "\n",
    "# Initialize empty columns in the DataFrame\n",
    "for col in column_names_product_information:\n",
    "    testi_11[col] = np.nan\n",
    "\n",
    "# Iterate over rows and split the text\n",
    "for index, row in testi_11.iterrows():\n",
    "    text = row['Product Information']\n",
    "\n",
    "    # Use a regex pattern to match the key and its associated values\n",
    "    pattern = r\"(.+?):\\n(.*?)(?=(?:\\n.+?:\\n|$))\"\n",
    "    matches = re.findall(pattern, text, re.DOTALL)\n",
    "\n",
    "    # Fill the corresponding column with the extracted values\n",
    "    for key, value in matches:\n",
    "        testi_11.at[index, key] = value\n",
    "\n",
    "# Replace empty strings with NaN\n",
    "testi_11.replace('', np.nan, inplace=True)"
   ]
  },
  {
   "cell_type": "markdown",
   "metadata": {},
   "source": [
    "Replace the unnecessary characters from the new columns created from the column \"Product Information\""
   ]
  },
  {
   "cell_type": "code",
   "execution_count": 18,
   "metadata": {},
   "outputs": [
    {
     "name": "stderr",
     "output_type": "stream",
     "text": [
      "C:\\Users\\OMISTAJA\\AppData\\Local\\Temp\\ipykernel_20452\\209702105.py:1: FutureWarning: The default value of regex will change from True to False in a future version.\n",
      "  testi_11[\"Product Categories\"] = testi_11[\"Product Categories\"].str.replace('-','').str.replace('Specific Product(s):','').str.replace('\\n\\n\\n','').str.strip()\n"
     ]
    }
   ],
   "source": [
    "testi_11[\"Product Categories\"] = testi_11[\"Product Categories\"].str.replace('-','').str.replace('Specific Product(s):','').str.replace('\\n\\n\\n','').str.strip()\n",
    "testi_11 = testi_11.rename(columns={\"\\n\\n\\nSpecific Product(s)\": 'SpecificProductsA'})\n",
    "testi_11 = testi_11.rename(columns={\"\\n- Chemicals\\n- Biomass\\n\\n\\nSpecific Product(s)\": 'SpecificProductsB'})"
   ]
  },
  {
   "cell_type": "markdown",
   "metadata": {},
   "source": [
    "Take a copy of the dataframe and continue with the copy"
   ]
  },
  {
   "cell_type": "code",
   "execution_count": 19,
   "metadata": {},
   "outputs": [],
   "source": [
    "testi_12 = testi_11.copy()"
   ]
  },
  {
   "cell_type": "markdown",
   "metadata": {},
   "source": [
    "\"Partners\" column needed only replacing the not needed characters and it could also keep its original column name"
   ]
  },
  {
   "cell_type": "code",
   "execution_count": 20,
   "metadata": {},
   "outputs": [],
   "source": [
    "testi_12[\"Partners\"] = testi_12[\"Partners\"].str.replace('-','').str.replace('\\n',',').str.strip()"
   ]
  },
  {
   "cell_type": "markdown",
   "metadata": {},
   "source": [
    "To get the projects names, I created another CO2 Values Europe webpage scraper. This scraper uses GET method and BeatifulSoup and reads the project names from the firts layer of the database and can change the pages of the webpage. "
   ]
  },
  {
   "cell_type": "code",
   "execution_count": 21,
   "metadata": {},
   "outputs": [],
   "source": [
    "url = \"https://database.co2value.eu/\"\n",
    "data_titles = []  # Initialize this list\n",
    "\n",
    "df = pd.DataFrame(columns=data_titles)\n",
    "\n",
    "while True:\n",
    "    page = requests.get(url)\n",
    "    soup = BeautifulSoup(page.text, \"html.parser\")\n",
    "\n",
    "    table = soup.find('table')\n",
    "    data_titles_raw = soup.find_all('th')\n",
    "    \n",
    "    if not data_titles:\n",
    "        data_titles = [title.text.strip() for title in data_titles_raw]\n",
    "        df = pd.DataFrame(columns=data_titles)\n",
    "\n",
    "    column_data = table.find_all('tr')\n",
    "\n",
    "    for row in column_data[1:]:\n",
    "        row_data = row.find_all('td')\n",
    "        individual_row_data = [data.text.strip() for data in row_data]\n",
    "        \n",
    "        if individual_row_data:\n",
    "            df.loc[df.shape[0]] = individual_row_data\n",
    "\n",
    "    # Find the next page link\n",
    "    pagination = soup.find('ul', class_='pagination')\n",
    "    next_page_link = pagination.find('a', rel='next')\n",
    "\n",
    "    if next_page_link:\n",
    "        url = \"https://database.co2value.eu/\" + next_page_link['href']\n",
    "    else:\n",
    "        break  # Exit the loop if there's no next page"
   ]
  },
  {
   "cell_type": "markdown",
   "metadata": {},
   "source": [
    "After the projects names are read to dataframe \"df\", 2 new columns are made"
   ]
  },
  {
   "cell_type": "code",
   "execution_count": 22,
   "metadata": {},
   "outputs": [],
   "source": [
    "# Split the \"Project\" column into two separate columns\n",
    "df[['ProjectName', 'ProjectInfo']] = df['Project'].str.split('\\n\\n\\n', expand=True)\n",
    "\n",
    "project_name_list = df['ProjectName'].tolist()\n",
    "\n",
    "project_info_list = df['ProjectInfo'].tolist()"
   ]
  },
  {
   "cell_type": "markdown",
   "metadata": {},
   "source": [
    "But because we already have values for project info, we include only the \"ProjectName\" to the dataframe we are working with"
   ]
  },
  {
   "cell_type": "code",
   "execution_count": 23,
   "metadata": {},
   "outputs": [],
   "source": [
    "testi_12[\"ProjectName\"] = project_name_list"
   ]
  },
  {
   "cell_type": "markdown",
   "metadata": {},
   "source": [
    "Now we a first draft of the dataframe that we want to save as a CSV file"
   ]
  },
  {
   "cell_type": "code",
   "execution_count": 24,
   "metadata": {},
   "outputs": [
    {
     "data": {
      "text/html": [
       "<div>\n",
       "<style scoped>\n",
       "    .dataframe tbody tr th:only-of-type {\n",
       "        vertical-align: middle;\n",
       "    }\n",
       "\n",
       "    .dataframe tbody tr th {\n",
       "        vertical-align: top;\n",
       "    }\n",
       "\n",
       "    .dataframe thead th {\n",
       "        text-align: right;\n",
       "    }\n",
       "</style>\n",
       "<table border=\"1\" class=\"dataframe\">\n",
       "  <thead>\n",
       "    <tr style=\"text-align: right;\">\n",
       "      <th></th>\n",
       "      <th>Project Description</th>\n",
       "      <th>Region</th>\n",
       "      <th>Project Boundaries</th>\n",
       "      <th>Website</th>\n",
       "      <th>Technological Information</th>\n",
       "      <th>Technological Details</th>\n",
       "      <th>Product Information</th>\n",
       "      <th>Partners</th>\n",
       "      <th>ProjectDescription</th>\n",
       "      <th>ProjectLead</th>\n",
       "      <th>...</th>\n",
       "      <th>\\n- Fuels\\n- Chemicals\\n\\n\\nSpecific Product(s)</th>\n",
       "      <th>\\n- Fuels\\n\\n\\nSpecific Product(s)</th>\n",
       "      <th>\\n' Chemicals\\n\\n\\nSpecific Product(s)</th>\n",
       "      <th>\\n- Food/Feed\\n- Chemicals\\n- Biomass\\n\\n\\nSpecific Product(s)</th>\n",
       "      <th>\\n- Food/Feed\\n- Biomass\\n\\n\\nSpecific Product(s)</th>\n",
       "      <th>\\n- Consumer goods\\n- Biomass\\n\\n\\nSpecific Product(s)</th>\n",
       "      <th>\\n- Captured CO2\\n\\n\\nSpecific Product(s)</th>\n",
       "      <th>\\n- (Building) Materials\\n\\n\\nSpecific Product(s)</th>\n",
       "      <th>\\n- Consumer goods\\n- Chemicals\\n\\n\\nSpecific Product(s)</th>\n",
       "      <th>ProjectName</th>\n",
       "    </tr>\n",
       "  </thead>\n",
       "  <tbody>\n",
       "    <tr>\n",
       "      <th>0</th>\n",
       "      <td>This project aims mainly at demonstrating DMXT...</td>\n",
       "      <td>Europe</td>\n",
       "      <td>Timeline Start - End:\\n2019-05-01 - 2023-04-30...</td>\n",
       "      <td>http://cordis.europa.eu/project/id/838031</td>\n",
       "      <td>Activities:\\n- Life cycle assessment (LCA)\\n- ...</td>\n",
       "      <td>CO2 capture/Utilization:\\n\\n\\nProduction Volum...</td>\n",
       "      <td>Product Categories:\\n- Captured CO2\\n\\n\\nSpeci...</td>\n",
       "      <td>TOTAL, AMAL, BREVIK, CMI, Axens, UETIKON, Gass...</td>\n",
       "      <td>This project aims mainly at demonstrating DMXT...</td>\n",
       "      <td>IFPEN</td>\n",
       "      <td>...</td>\n",
       "      <td>NaN</td>\n",
       "      <td>NaN</td>\n",
       "      <td>NaN</td>\n",
       "      <td>NaN</td>\n",
       "      <td>NaN</td>\n",
       "      <td>NaN</td>\n",
       "      <td>NaN</td>\n",
       "      <td>NaN</td>\n",
       "      <td>NaN</td>\n",
       "      <td>3D-Project DMX</td>\n",
       "    </tr>\n",
       "    <tr>\n",
       "      <th>1</th>\n",
       "      <td>The global aviation sector has set a course to...</td>\n",
       "      <td>Europe</td>\n",
       "      <td>Timeline Start - End:\\n2021-05-01 - 2024-04-30...</td>\n",
       "      <td>http://www.4aircraft-project.eu/</td>\n",
       "      <td>CCU Tecnology Category:\\nUtilization\\n\\n\\nInfo...</td>\n",
       "      <td>CO2 capture/Utilization:\\n\\n\\nProduction Volume:</td>\n",
       "      <td>Product Categories:\\n- Fuels\\n\\n\\nSpecific Pro...</td>\n",
       "      <td>UNIVERSIDADE DE SAO PAULO, UNIVERSITEIT ANTWER...</td>\n",
       "      <td>The global aviation sector has set a course to...</td>\n",
       "      <td>FUNDACION PARA EL DESARROLLO DE LAS NUEVAS TEC...</td>\n",
       "      <td>...</td>\n",
       "      <td>NaN</td>\n",
       "      <td>NaN</td>\n",
       "      <td>NaN</td>\n",
       "      <td>NaN</td>\n",
       "      <td>NaN</td>\n",
       "      <td>NaN</td>\n",
       "      <td>NaN</td>\n",
       "      <td>NaN</td>\n",
       "      <td>NaN</td>\n",
       "      <td>4AirCRAFT</td>\n",
       "    </tr>\n",
       "    <tr>\n",
       "      <th>2</th>\n",
       "      <td>This business-oriented project aims at a new a...</td>\n",
       "      <td>Europe</td>\n",
       "      <td>Timeline Start - End:\\n2017-01-05 - 2020-07-31...</td>\n",
       "      <td>http://www.abacus-bbi.eu/</td>\n",
       "      <td>Activities:\\n- Techno-economic analysis\\n- R&amp;I...</td>\n",
       "      <td>CO2 capture/Utilization:\\n\\n\\nProduction Volume:</td>\n",
       "      <td>Product Categories:\\n- Food/Feed\\n- Chemicals\\...</td>\n",
       "      <td>Sensient Cosmetic Technologies, MICROPHYT, Pro...</td>\n",
       "      <td>This business-oriented project aims at a new a...</td>\n",
       "      <td>Alternative Energies and Atomic Energy Commiss...</td>\n",
       "      <td>...</td>\n",
       "      <td>NaN</td>\n",
       "      <td>NaN</td>\n",
       "      <td>NaN</td>\n",
       "      <td>NaN</td>\n",
       "      <td>NaN</td>\n",
       "      <td>NaN</td>\n",
       "      <td>NaN</td>\n",
       "      <td>NaN</td>\n",
       "      <td>NaN</td>\n",
       "      <td>ABACUS</td>\n",
       "    </tr>\n",
       "  </tbody>\n",
       "</table>\n",
       "<p>3 rows × 45 columns</p>\n",
       "</div>"
      ],
      "text/plain": [
       "                                 Project Description  Region  \\\n",
       "0  This project aims mainly at demonstrating DMXT...  Europe   \n",
       "1  The global aviation sector has set a course to...  Europe   \n",
       "2  This business-oriented project aims at a new a...  Europe   \n",
       "\n",
       "                                  Project Boundaries  \\\n",
       "0  Timeline Start - End:\\n2019-05-01 - 2023-04-30...   \n",
       "1  Timeline Start - End:\\n2021-05-01 - 2024-04-30...   \n",
       "2  Timeline Start - End:\\n2017-01-05 - 2020-07-31...   \n",
       "\n",
       "                                     Website  \\\n",
       "0  http://cordis.europa.eu/project/id/838031   \n",
       "1           http://www.4aircraft-project.eu/   \n",
       "2                  http://www.abacus-bbi.eu/   \n",
       "\n",
       "                           Technological Information  \\\n",
       "0  Activities:\\n- Life cycle assessment (LCA)\\n- ...   \n",
       "1  CCU Tecnology Category:\\nUtilization\\n\\n\\nInfo...   \n",
       "2  Activities:\\n- Techno-economic analysis\\n- R&I...   \n",
       "\n",
       "                               Technological Details  \\\n",
       "0  CO2 capture/Utilization:\\n\\n\\nProduction Volum...   \n",
       "1   CO2 capture/Utilization:\\n\\n\\nProduction Volume:   \n",
       "2   CO2 capture/Utilization:\\n\\n\\nProduction Volume:   \n",
       "\n",
       "                                 Product Information  \\\n",
       "0  Product Categories:\\n- Captured CO2\\n\\n\\nSpeci...   \n",
       "1  Product Categories:\\n- Fuels\\n\\n\\nSpecific Pro...   \n",
       "2  Product Categories:\\n- Food/Feed\\n- Chemicals\\...   \n",
       "\n",
       "                                            Partners  \\\n",
       "0  TOTAL, AMAL, BREVIK, CMI, Axens, UETIKON, Gass...   \n",
       "1  UNIVERSIDADE DE SAO PAULO, UNIVERSITEIT ANTWER...   \n",
       "2  Sensient Cosmetic Technologies, MICROPHYT, Pro...   \n",
       "\n",
       "                                  ProjectDescription  \\\n",
       "0  This project aims mainly at demonstrating DMXT...   \n",
       "1  The global aviation sector has set a course to...   \n",
       "2  This business-oriented project aims at a new a...   \n",
       "\n",
       "                                         ProjectLead  ...  \\\n",
       "0                                              IFPEN  ...   \n",
       "1  FUNDACION PARA EL DESARROLLO DE LAS NUEVAS TEC...  ...   \n",
       "2  Alternative Energies and Atomic Energy Commiss...  ...   \n",
       "\n",
       "  \\n- Fuels\\n- Chemicals\\n\\n\\nSpecific Product(s)  \\\n",
       "0                                             NaN   \n",
       "1                                             NaN   \n",
       "2                                             NaN   \n",
       "\n",
       "  \\n- Fuels\\n\\n\\nSpecific Product(s) \\n' Chemicals\\n\\n\\nSpecific Product(s)  \\\n",
       "0                                NaN                                    NaN   \n",
       "1                                NaN                                    NaN   \n",
       "2                                NaN                                    NaN   \n",
       "\n",
       "  \\n- Food/Feed\\n- Chemicals\\n- Biomass\\n\\n\\nSpecific Product(s)  \\\n",
       "0                                                NaN               \n",
       "1                                                NaN               \n",
       "2                                                NaN               \n",
       "\n",
       "   \\n- Food/Feed\\n- Biomass\\n\\n\\nSpecific Product(s)  \\\n",
       "0                                                NaN   \n",
       "1                                                NaN   \n",
       "2                                                NaN   \n",
       "\n",
       "  \\n- Consumer goods\\n- Biomass\\n\\n\\nSpecific Product(s)  \\\n",
       "0                                                NaN       \n",
       "1                                                NaN       \n",
       "2                                                NaN       \n",
       "\n",
       "   \\n- Captured CO2\\n\\n\\nSpecific Product(s)  \\\n",
       "0                                        NaN   \n",
       "1                                        NaN   \n",
       "2                                        NaN   \n",
       "\n",
       "   \\n- (Building) Materials\\n\\n\\nSpecific Product(s)  \\\n",
       "0                                                NaN   \n",
       "1                                                NaN   \n",
       "2                                                NaN   \n",
       "\n",
       "  \\n- Consumer goods\\n- Chemicals\\n\\n\\nSpecific Product(s)     ProjectName  \n",
       "0                                                NaN        3D-Project DMX  \n",
       "1                                                NaN             4AirCRAFT  \n",
       "2                                                NaN                ABACUS  \n",
       "\n",
       "[3 rows x 45 columns]"
      ]
     },
     "execution_count": 24,
     "metadata": {},
     "output_type": "execute_result"
    }
   ],
   "source": [
    "testi_12.head(3)"
   ]
  },
  {
   "cell_type": "markdown",
   "metadata": {},
   "source": [
    "Lets now see how many missing values there is per column"
   ]
  },
  {
   "cell_type": "code",
   "execution_count": 25,
   "metadata": {},
   "outputs": [],
   "source": [
    "# Identify and calculate the percentage of the missing values in each attribute\n",
    "\n",
    "missig_values = testi_12.isnull().sum() / testi_12.shape[0] * 100\n",
    "\n",
    "# Create a DataFrame from the Series\n",
    "missig_values_df = pd.DataFrame(missig_values, columns=['Percentage Missing'])\n",
    "\n",
    "_0_19_missing = missig_values_df[missig_values_df[\"Percentage Missing\"].between(0, 19)]\n",
    "_20_39_missing = missig_values_df[missig_values_df[\"Percentage Missing\"].between(20, 39)]\n",
    "_40_59_missing = missig_values_df[missig_values_df[\"Percentage Missing\"].between(40, 59)]\n",
    "_60_79_missing = missig_values_df[missig_values_df[\"Percentage Missing\"].between(60, 79)]\n",
    "_80_100_missing = missig_values_df[missig_values_df[\"Percentage Missing\"].between(80, 100)]"
   ]
  },
  {
   "cell_type": "code",
   "execution_count": 26,
   "metadata": {},
   "outputs": [
    {
     "data": {
      "text/html": [
       "<div>\n",
       "<style scoped>\n",
       "    .dataframe tbody tr th:only-of-type {\n",
       "        vertical-align: middle;\n",
       "    }\n",
       "\n",
       "    .dataframe tbody tr th {\n",
       "        vertical-align: top;\n",
       "    }\n",
       "\n",
       "    .dataframe thead th {\n",
       "        text-align: right;\n",
       "    }\n",
       "</style>\n",
       "<table border=\"1\" class=\"dataframe\">\n",
       "  <thead>\n",
       "    <tr style=\"text-align: right;\">\n",
       "      <th></th>\n",
       "      <th>Percentage Missing</th>\n",
       "    </tr>\n",
       "  </thead>\n",
       "  <tbody>\n",
       "    <tr>\n",
       "      <th>Project Description</th>\n",
       "      <td>0.000000</td>\n",
       "    </tr>\n",
       "    <tr>\n",
       "      <th>Region</th>\n",
       "      <td>2.734375</td>\n",
       "    </tr>\n",
       "    <tr>\n",
       "      <th>Project Boundaries</th>\n",
       "      <td>0.000000</td>\n",
       "    </tr>\n",
       "    <tr>\n",
       "      <th>Website</th>\n",
       "      <td>0.000000</td>\n",
       "    </tr>\n",
       "    <tr>\n",
       "      <th>Technological Information</th>\n",
       "      <td>0.000000</td>\n",
       "    </tr>\n",
       "    <tr>\n",
       "      <th>Technological Details</th>\n",
       "      <td>0.000000</td>\n",
       "    </tr>\n",
       "    <tr>\n",
       "      <th>Product Information</th>\n",
       "      <td>0.000000</td>\n",
       "    </tr>\n",
       "    <tr>\n",
       "      <th>Partners</th>\n",
       "      <td>5.859375</td>\n",
       "    </tr>\n",
       "    <tr>\n",
       "      <th>ProjectDescription</th>\n",
       "      <td>0.000000</td>\n",
       "    </tr>\n",
       "    <tr>\n",
       "      <th>ProjectLead</th>\n",
       "      <td>0.000000</td>\n",
       "    </tr>\n",
       "    <tr>\n",
       "      <th>StartTime</th>\n",
       "      <td>6.250000</td>\n",
       "    </tr>\n",
       "    <tr>\n",
       "      <th>Status</th>\n",
       "      <td>0.000000</td>\n",
       "    </tr>\n",
       "    <tr>\n",
       "      <th>Budget</th>\n",
       "      <td>9.375000</td>\n",
       "    </tr>\n",
       "    <tr>\n",
       "      <th>FundingSource</th>\n",
       "      <td>7.421875</td>\n",
       "    </tr>\n",
       "    <tr>\n",
       "      <th>Activities</th>\n",
       "      <td>8.984375</td>\n",
       "    </tr>\n",
       "    <tr>\n",
       "      <th>CO2 Source</th>\n",
       "      <td>7.421875</td>\n",
       "    </tr>\n",
       "    <tr>\n",
       "      <th>CCU Tecnology Category</th>\n",
       "      <td>0.000000</td>\n",
       "    </tr>\n",
       "    <tr>\n",
       "      <th>End TRL</th>\n",
       "      <td>16.406250</td>\n",
       "    </tr>\n",
       "    <tr>\n",
       "      <th>Product Categories</th>\n",
       "      <td>5.468750</td>\n",
       "    </tr>\n",
       "    <tr>\n",
       "      <th>ProjectName</th>\n",
       "      <td>0.000000</td>\n",
       "    </tr>\n",
       "  </tbody>\n",
       "</table>\n",
       "</div>"
      ],
      "text/plain": [
       "                           Percentage Missing\n",
       "Project Description                  0.000000\n",
       "Region                               2.734375\n",
       "Project Boundaries                   0.000000\n",
       "Website                              0.000000\n",
       "Technological Information            0.000000\n",
       "Technological Details                0.000000\n",
       "Product Information                  0.000000\n",
       "Partners                             5.859375\n",
       "ProjectDescription                   0.000000\n",
       "ProjectLead                          0.000000\n",
       "StartTime                            6.250000\n",
       "Status                               0.000000\n",
       "Budget                               9.375000\n",
       "FundingSource                        7.421875\n",
       "Activities                           8.984375\n",
       "CO2 Source                           7.421875\n",
       "CCU Tecnology Category               0.000000\n",
       "End TRL                             16.406250\n",
       "Product Categories                   5.468750\n",
       "ProjectName                          0.000000"
      ]
     },
     "execution_count": 26,
     "metadata": {},
     "output_type": "execute_result"
    }
   ],
   "source": [
    "_0_19_missing"
   ]
  },
  {
   "cell_type": "code",
   "execution_count": 27,
   "metadata": {},
   "outputs": [
    {
     "data": {
      "text/html": [
       "<div>\n",
       "<style scoped>\n",
       "    .dataframe tbody tr th:only-of-type {\n",
       "        vertical-align: middle;\n",
       "    }\n",
       "\n",
       "    .dataframe tbody tr th {\n",
       "        vertical-align: top;\n",
       "    }\n",
       "\n",
       "    .dataframe thead th {\n",
       "        text-align: right;\n",
       "    }\n",
       "</style>\n",
       "<table border=\"1\" class=\"dataframe\">\n",
       "  <thead>\n",
       "    <tr style=\"text-align: right;\">\n",
       "      <th></th>\n",
       "      <th>Percentage Missing</th>\n",
       "    </tr>\n",
       "  </thead>\n",
       "  <tbody>\n",
       "    <tr>\n",
       "      <th>Country</th>\n",
       "      <td>30.078125</td>\n",
       "    </tr>\n",
       "    <tr>\n",
       "      <th>EndTime</th>\n",
       "      <td>22.265625</td>\n",
       "    </tr>\n",
       "    <tr>\n",
       "      <th>ProjectLength</th>\n",
       "      <td>22.656250</td>\n",
       "    </tr>\n",
       "  </tbody>\n",
       "</table>\n",
       "</div>"
      ],
      "text/plain": [
       "               Percentage Missing\n",
       "Country                 30.078125\n",
       "EndTime                 22.265625\n",
       "ProjectLength           22.656250"
      ]
     },
     "execution_count": 27,
     "metadata": {},
     "output_type": "execute_result"
    }
   ],
   "source": [
    "_20_39_missing"
   ]
  },
  {
   "cell_type": "code",
   "execution_count": 28,
   "metadata": {},
   "outputs": [
    {
     "data": {
      "text/html": [
       "<div>\n",
       "<style scoped>\n",
       "    .dataframe tbody tr th:only-of-type {\n",
       "        vertical-align: middle;\n",
       "    }\n",
       "\n",
       "    .dataframe tbody tr th {\n",
       "        vertical-align: top;\n",
       "    }\n",
       "\n",
       "    .dataframe thead th {\n",
       "        text-align: right;\n",
       "    }\n",
       "</style>\n",
       "<table border=\"1\" class=\"dataframe\">\n",
       "  <thead>\n",
       "    <tr style=\"text-align: right;\">\n",
       "      <th></th>\n",
       "      <th>Percentage Missing</th>\n",
       "    </tr>\n",
       "  </thead>\n",
       "  <tbody>\n",
       "    <tr>\n",
       "      <th>SpecificProductsA</th>\n",
       "      <td>40.234375</td>\n",
       "    </tr>\n",
       "  </tbody>\n",
       "</table>\n",
       "</div>"
      ],
      "text/plain": [
       "                   Percentage Missing\n",
       "SpecificProductsA           40.234375"
      ]
     },
     "execution_count": 28,
     "metadata": {},
     "output_type": "execute_result"
    }
   ],
   "source": [
    "_40_59_missing"
   ]
  },
  {
   "cell_type": "code",
   "execution_count": 29,
   "metadata": {},
   "outputs": [
    {
     "data": {
      "text/html": [
       "<div>\n",
       "<style scoped>\n",
       "    .dataframe tbody tr th:only-of-type {\n",
       "        vertical-align: middle;\n",
       "    }\n",
       "\n",
       "    .dataframe tbody tr th {\n",
       "        vertical-align: top;\n",
       "    }\n",
       "\n",
       "    .dataframe thead th {\n",
       "        text-align: right;\n",
       "    }\n",
       "</style>\n",
       "<table border=\"1\" class=\"dataframe\">\n",
       "  <thead>\n",
       "    <tr style=\"text-align: right;\">\n",
       "      <th></th>\n",
       "      <th>Percentage Missing</th>\n",
       "    </tr>\n",
       "  </thead>\n",
       "  <tbody>\n",
       "    <tr>\n",
       "      <th>Start TRL</th>\n",
       "      <td>73.046875</td>\n",
       "    </tr>\n",
       "    <tr>\n",
       "      <th>CO2 capture/Utilization</th>\n",
       "      <td>78.515625</td>\n",
       "    </tr>\n",
       "    <tr>\n",
       "      <th>Production Volume</th>\n",
       "      <td>78.906250</td>\n",
       "    </tr>\n",
       "  </tbody>\n",
       "</table>\n",
       "</div>"
      ],
      "text/plain": [
       "                         Percentage Missing\n",
       "Start TRL                         73.046875\n",
       "CO2 capture/Utilization           78.515625\n",
       "Production Volume                 78.906250"
      ]
     },
     "execution_count": 29,
     "metadata": {},
     "output_type": "execute_result"
    }
   ],
   "source": [
    "_60_79_missing"
   ]
  },
  {
   "cell_type": "code",
   "execution_count": 30,
   "metadata": {},
   "outputs": [
    {
     "data": {
      "text/html": [
       "<div>\n",
       "<style scoped>\n",
       "    .dataframe tbody tr th:only-of-type {\n",
       "        vertical-align: middle;\n",
       "    }\n",
       "\n",
       "    .dataframe tbody tr th {\n",
       "        vertical-align: top;\n",
       "    }\n",
       "\n",
       "    .dataframe thead th {\n",
       "        text-align: right;\n",
       "    }\n",
       "</style>\n",
       "<table border=\"1\" class=\"dataframe\">\n",
       "  <thead>\n",
       "    <tr style=\"text-align: right;\">\n",
       "      <th></th>\n",
       "      <th>Percentage Missing</th>\n",
       "    </tr>\n",
       "  </thead>\n",
       "  <tbody>\n",
       "    <tr>\n",
       "      <th>Trash</th>\n",
       "      <td>100.000000</td>\n",
       "    </tr>\n",
       "    <tr>\n",
       "      <th>Specific Product(s)</th>\n",
       "      <td>96.093750</td>\n",
       "    </tr>\n",
       "    <tr>\n",
       "      <th>SpecificProductsB</th>\n",
       "      <td>98.828125</td>\n",
       "    </tr>\n",
       "    <tr>\n",
       "      <th>\\n- Chemicals\\n\\n\\nSpecific Product(s)</th>\n",
       "      <td>92.187500</td>\n",
       "    </tr>\n",
       "    <tr>\n",
       "      <th>\\n- Consumer goods\\n- Chemicals\\n- Biomass\\n\\n\\nSpecific Product(s)</th>\n",
       "      <td>99.609375</td>\n",
       "    </tr>\n",
       "    <tr>\n",
       "      <th>\\n- Biomass\\n\\n\\nSpecific Product(s)</th>\n",
       "      <td>98.046875</td>\n",
       "    </tr>\n",
       "    <tr>\n",
       "      <th>\\n- Consumer goods\\n\\n\\nSpecific Product(s)</th>\n",
       "      <td>99.609375</td>\n",
       "    </tr>\n",
       "    <tr>\n",
       "      <th>\\n- Fuels\\n- Chemicals\\n\\n\\nSpecific Product(s)</th>\n",
       "      <td>99.218750</td>\n",
       "    </tr>\n",
       "    <tr>\n",
       "      <th>\\n- Fuels\\n\\n\\nSpecific Product(s)</th>\n",
       "      <td>99.218750</td>\n",
       "    </tr>\n",
       "    <tr>\n",
       "      <th>\\n' Chemicals\\n\\n\\nSpecific Product(s)</th>\n",
       "      <td>99.609375</td>\n",
       "    </tr>\n",
       "    <tr>\n",
       "      <th>\\n- Food/Feed\\n- Chemicals\\n- Biomass\\n\\n\\nSpecific Product(s)</th>\n",
       "      <td>99.609375</td>\n",
       "    </tr>\n",
       "    <tr>\n",
       "      <th>\\n- Food/Feed\\n- Biomass\\n\\n\\nSpecific Product(s)</th>\n",
       "      <td>99.218750</td>\n",
       "    </tr>\n",
       "    <tr>\n",
       "      <th>\\n- Consumer goods\\n- Biomass\\n\\n\\nSpecific Product(s)</th>\n",
       "      <td>99.609375</td>\n",
       "    </tr>\n",
       "    <tr>\n",
       "      <th>\\n- Captured CO2\\n\\n\\nSpecific Product(s)</th>\n",
       "      <td>98.437500</td>\n",
       "    </tr>\n",
       "    <tr>\n",
       "      <th>\\n- (Building) Materials\\n\\n\\nSpecific Product(s)</th>\n",
       "      <td>99.609375</td>\n",
       "    </tr>\n",
       "    <tr>\n",
       "      <th>\\n- Consumer goods\\n- Chemicals\\n\\n\\nSpecific Product(s)</th>\n",
       "      <td>99.609375</td>\n",
       "    </tr>\n",
       "  </tbody>\n",
       "</table>\n",
       "</div>"
      ],
      "text/plain": [
       "                                                    Percentage Missing\n",
       "Trash                                                       100.000000\n",
       "Specific Product(s)                                          96.093750\n",
       "SpecificProductsB                                            98.828125\n",
       "\\n- Chemicals\\n\\n\\nSpecific Product(s)                       92.187500\n",
       "\\n- Consumer goods\\n- Chemicals\\n- Biomass\\n\\n\\...           99.609375\n",
       "\\n- Biomass\\n\\n\\nSpecific Product(s)                         98.046875\n",
       "\\n- Consumer goods\\n\\n\\nSpecific Product(s)                  99.609375\n",
       "\\n- Fuels\\n- Chemicals\\n\\n\\nSpecific Product(s)              99.218750\n",
       "\\n- Fuels\\n\\n\\nSpecific Product(s)                           99.218750\n",
       "\\n' Chemicals\\n\\n\\nSpecific Product(s)                       99.609375\n",
       "\\n- Food/Feed\\n- Chemicals\\n- Biomass\\n\\n\\nSpec...           99.609375\n",
       "\\n- Food/Feed\\n- Biomass\\n\\n\\nSpecific Product(s)            99.218750\n",
       "\\n- Consumer goods\\n- Biomass\\n\\n\\nSpecific Pro...           99.609375\n",
       "\\n- Captured CO2\\n\\n\\nSpecific Product(s)                    98.437500\n",
       "\\n- (Building) Materials\\n\\n\\nSpecific Product(s)            99.609375\n",
       "\\n- Consumer goods\\n- Chemicals\\n\\n\\nSpecific P...           99.609375"
      ]
     },
     "execution_count": 30,
     "metadata": {},
     "output_type": "execute_result"
    }
   ],
   "source": [
    "_80_100_missing"
   ]
  },
  {
   "cell_type": "markdown",
   "metadata": {},
   "source": [
    "Then lets rename the columns that needs renaming to be more easily taken into use"
   ]
  },
  {
   "cell_type": "code",
   "execution_count": 37,
   "metadata": {},
   "outputs": [],
   "source": [
    "testi_12.rename(columns={'CO2 Source':'CO2_Source'}, inplace=True)\n",
    "testi_12.rename(columns={'CCU Tecnology Category':'CCU_Tecnology_Category'}, inplace=True)\n",
    "testi_12.rename(columns={'End TRL':'End_TRL'}, inplace=True)\n",
    "testi_12.rename(columns={'Product Categories':'Product_Categories'}, inplace=True)\n",
    "\n",
    "testi_12.rename(columns={'SpecificProductsA':'Specific_Products_A'}, inplace=True)\n",
    "\n",
    "testi_12.rename(columns={'Start TRL':'Start_TRL'}, inplace=True)\n",
    "testi_12.rename(columns={'CO2 capture/Utilization':'CO2_Capture_Utilization'}, inplace=True)\n",
    "testi_12.rename(columns={'Production Volume':'Production_Volume'}, inplace=True)\n",
    "\n",
    "testi_12.rename(columns={'SpecificProductsB':'Specific_Products_B'}, inplace=True)\n",
    "testi_12.rename(columns={'Specific Product(s)':'Specific_Products_C'}, inplace=True)\n",
    "\n",
    "testi_12.rename(columns={'\\n- Chemicals\\n\\n\\nSpecific Product(s)':'Specific_Products_D'}, inplace=True)\n",
    "testi_12.rename(columns={'\\n- Consumer goods\\n- Chemicals\\n- Biomass\\n\\n\\nSpecific Product(s)':'Specific_Products_E'}, inplace=True)\n",
    "testi_12.rename(columns={'\\n- Biomass\\n\\n\\nSpecific Product(s)':'Specific_Products_F'}, inplace=True)\n",
    "testi_12.rename(columns={'\\n- Consumer goods\\n\\n\\nSpecific Product(s)':'Specific_Products_G'}, inplace=True)\n",
    "testi_12.rename(columns={'\\n- Fuels\\n- Chemicals\\n\\n\\nSpecific Product(s)':'Specific_Products_H'}, inplace=True)\n",
    "testi_12.rename(columns={'\\n- Fuels\\n\\n\\nSpecific Product(s)':'Specific_Products_I'}, inplace=True)\n",
    "testi_12.rename(columns={'\\n- Chemicals\\n\\n\\nSpecific Product(s)':'Specific_Products_J'}, inplace=True)\n",
    "testi_12.rename(columns={'\\n- Food/Feed\\n- Chemicals\\n- Biomass\\n\\n\\nSpecific Product(s)':'Specific_Products_K'}, inplace=True)\n",
    "testi_12.rename(columns={'\\n- Food/Feed\\n- Biomass\\n\\n\\nSpecific Product(s)':'Specific_Products_L'}, inplace=True)\n",
    "testi_12.rename(columns={'\\n- Consumer goods\\n- Biomass\\n\\n\\nSpecific Product(s)':'Specific_Products_M'}, inplace=True)\n",
    "testi_12.rename(columns={'\\n- Captured CO2\\n\\n\\nSpecific Product(s)':'Specific_Products_N'}, inplace=True)\n",
    "testi_12.rename(columns={'\\n- (Building) Materials\\n\\n\\nSpecific Product(s)':'Specific_Products_O'}, inplace=True)\n",
    "testi_12.rename(columns={'\\n- Consumer goods\\n- Chemicals\\n\\n\\nSpecific Product(s)':'Specific_Products_P'}, inplace=True)"
   ]
  },
  {
   "cell_type": "markdown",
   "metadata": {},
   "source": [
    "Now we can drop off the columns that we no longer need in the dataframe. These columns have given values to the columns that stay in the dataframe"
   ]
  },
  {
   "cell_type": "code",
   "execution_count": 32,
   "metadata": {},
   "outputs": [],
   "source": [
    "testi_12 = testi_12.drop(\"Project Description\", axis=1)\n",
    "testi_12 = testi_12.drop(\"Project Boundaries\", axis=1)\n",
    "testi_12 = testi_12.drop(\"Technological Information\", axis=1)\n",
    "testi_12 = testi_12.drop(\"Technological Details\", axis=1)\n",
    "testi_12 = testi_12.drop(\"Product Information\", axis=1)\n",
    "testi_12 = testi_12.drop(\"Trash\", axis=1)"
   ]
  },
  {
   "cell_type": "code",
   "execution_count": 34,
   "metadata": {},
   "outputs": [
    {
     "name": "stdout",
     "output_type": "stream",
     "text": [
      "There is 39 columns and 256 rows in the testi_12 DataFrame now\n"
     ]
    }
   ],
   "source": [
    "print(f\"There is {testi_12.shape[1]} columns and {testi_12.shape[0]} rows in the testi_12 DataFrame now\")"
   ]
  },
  {
   "cell_type": "markdown",
   "metadata": {},
   "source": [
    "As a final step we can now save this dataframe to a CSV file"
   ]
  },
  {
   "cell_type": "code",
   "execution_count": 35,
   "metadata": {},
   "outputs": [],
   "source": [
    "testi_12.to_csv('co2_value_europe_database.csv', index=False)"
   ]
  },
  {
   "cell_type": "code",
   "execution_count": 40,
   "metadata": {},
   "outputs": [
    {
     "data": {
      "text/plain": [
       "Index(['Region', 'Website', 'Partners', 'ProjectDescription', 'ProjectLead',\n",
       "       'Country', 'StartTime', 'EndTime', 'Status', 'Budget', 'FundingSource',\n",
       "       'ProjectLength', 'Activities', 'CO2_Source', 'CCU_Tecnology_Category',\n",
       "       'Facility stage', 'Start_TRL', 'End_TRL', 'Info On Utilization',\n",
       "       'CO2_Capture_Utilization', 'Production_Volume', 'Product_Categories',\n",
       "       'Specific_Products_C', 'Specific_Products_A', 'Specific_Products_B',\n",
       "       'Specific_Products_D', 'Specific_Products_E', 'Specific_Products_F',\n",
       "       'Specific_Products_G', 'Specific_Products_H', 'Specific_Products_I',\n",
       "       '\\n' Chemicals\\n\\n\\nSpecific Product(s)', 'Specific_Products_K',\n",
       "       'Specific_Products_L', 'Specific_Products_M', 'Specific_Products_N',\n",
       "       'Specific_Products_O', 'Specific_Products_P', 'ProjectName'],\n",
       "      dtype='object')"
      ]
     },
     "execution_count": 40,
     "metadata": {},
     "output_type": "execute_result"
    }
   ],
   "source": [
    "testi_12.columns"
   ]
  }
 ],
 "metadata": {
  "kernelspec": {
   "display_name": "Python 3",
   "language": "python",
   "name": "python3"
  },
  "language_info": {
   "codemirror_mode": {
    "name": "ipython",
    "version": 3
   },
   "file_extension": ".py",
   "mimetype": "text/x-python",
   "name": "python",
   "nbconvert_exporter": "python",
   "pygments_lexer": "ipython3",
   "version": "3.11.3"
  }
 },
 "nbformat": 4,
 "nbformat_minor": 2
}
